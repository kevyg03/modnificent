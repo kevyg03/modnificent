{
 "cells": [
  {
   "cell_type": "markdown",
   "metadata": {},
   "source": [
    "### Creating virtual environment and installing packages\n",
    "First run `pip -m venv venv` to create a virtual environment \\\n",
    "If on a Mac, run `source venv/bin/activate` to activate the virtual environment"
   ]
  },
  {
   "cell_type": "code",
   "execution_count": null,
   "metadata": {},
   "outputs": [],
   "source": [
    "!pip install selenium webdriver-manager"
   ]
  },
  {
   "cell_type": "markdown",
   "metadata": {},
   "source": [
    "### Scraping for users that relate to a certain topic\n",
    "Youtube specific\n",
    "\n",
    "### Notes\n",
    "If you want to start scraping Instagram safely, you must also consider hiding your IP address since the platform limits the amount of information one can access without logging in.\n",
    "\n",
    "The best way to do so is by using a rotating proxy server."
   ]
  },
  {
   "cell_type": "code",
   "execution_count": null,
   "metadata": {},
   "outputs": [],
   "source": [
    "from selenium import webdriver\n",
    "from selenium.webdriver.chrome.service import Service\n",
    "from webdriver_manager.chrome import ChromeDriverManager\n",
    "from selenium.webdriver.common.by import By\n",
    "# from selenium_stealth import stealth\n",
    "import time\n",
    "\n",
    "proxy = \"server:port\"\n",
    "\n",
    "output = {}\n",
    "search_terms = [\"boba\"]\n",
    "\n",
    "driver = webdriver.Chrome()\n",
    "\n",
    "for term in search_terms:\n",
    "    driver.get(f\"https://www.youtube.com/results?search_query={term}\")\n",
    "    # element = driver.find_element(By.ID, \"tooltip\") # \"style-scope ytd-channel-name\"\n",
    "    # title = driver.find_element(By.XPATH, '//yt-formatted-string[contains(@class, \"style-scope ytd-video-renderer\")]')\n",
    "    # title = driver.find_element(By.XPATH, '//yt-formatted-string[contains(@class, \"yt-simple-endpoint style-scope yt-formatted-string\")]')\n",
    "    # titles = driver.find_elements(By.CLASS_NAME, \"style-scope ytd-video-renderer\")\n",
    "    # titles = driver.find_elements(By.CLASS_NAME, \"yt-simple-endpoint style-scope yt-formatted-string\")\n",
    "    titles = driver.find_elements(By.ID, \"channel-thumbnail\")\n",
    "    time.sleep(3)\n",
    "    vid_titles = [elem.get_attribute('href') for elem in titles]\n",
    "    print(vid_titles)\n",
    "\n",
    "driver.quit()"
   ]
  },
  {
   "cell_type": "code",
   "execution_count": 37,
   "metadata": {},
   "outputs": [],
   "source": [
    "driver.quit()"
   ]
  },
  {
   "cell_type": "markdown",
   "metadata": {},
   "source": [
    "### Scraping a particular user for their data\n",
    "Youtube specific"
   ]
  },
  {
   "cell_type": "code",
   "execution_count": null,
   "metadata": {},
   "outputs": [],
   "source": [
    "from selenium import webdriver\n",
    "from selenium.webdriver.chrome.service import Service\n",
    "from webdriver_manager.chrome import ChromeDriverManager\n",
    "\n",
    "driver = webdriver.Chrome()\n",
    "usernames = [\"jlo\", \"shakira\", \"beyonce\", \"katyperry\"]\n",
    "\n",
    "# chr_options = Options()\n",
    "# chr_options.add_experimental_option(\"detach\", True)\n",
    "# chr_options.add_argument('start-maximized')\n",
    "# driver = webdriver.Chrome(ChromeDriverManager().install()) #, options=chr_options\n",
    "driver.get(\"https://www.youtube.com/@YasoobKhalid/videos\")\n",
    "\n"
   ]
  }
 ],
 "metadata": {
  "kernelspec": {
   "display_name": "venv",
   "language": "python",
   "name": "python3"
  },
  "language_info": {
   "codemirror_mode": {
    "name": "ipython",
    "version": 3
   },
   "file_extension": ".py",
   "mimetype": "text/x-python",
   "name": "python",
   "nbconvert_exporter": "python",
   "pygments_lexer": "ipython3",
   "version": "3.10.12"
  },
  "orig_nbformat": 4
 },
 "nbformat": 4,
 "nbformat_minor": 2
}
